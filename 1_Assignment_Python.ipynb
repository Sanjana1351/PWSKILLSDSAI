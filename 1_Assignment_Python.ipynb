{
  "nbformat": 4,
  "nbformat_minor": 0,
  "metadata": {
    "colab": {
      "provenance": []
    },
    "kernelspec": {
      "name": "python3",
      "display_name": "Python 3"
    },
    "language_info": {
      "name": "python"
    }
  },
  "cells": [
    {
      "cell_type": "code",
      "execution_count": null,
      "metadata": {
        "id": "nwduGb5PPaHL"
      },
      "outputs": [],
      "source": [
        "'''1. Explain the key features of Python that make it a popular choice for programming\n",
        "\n",
        "Python is a popular language because of its readability, versatility, and efficiency.\n",
        "key features:\n",
        "a. Simple and Easy to Learn: Python's syntax is straightforward, allowing new to read and write code easily.\n",
        "b. Interpreted Language: Python executes line by line, which simplifies debugging and testing.\n",
        "c. Dynamic Typing: Python allows variables to change type dynamically, which means you don’t need to declare variable types explicitly.\n",
        "d. Extensive Libraries: Python’s libraries, like NumPy, Pandas, and Django, make it easy to perform various tasks, from data science to web development.\n",
        "e. Cross-Platform Compatibility: Python can run on different operating systems without modification.\n",
        "f. Object-Oriented and Functional: Python supports both paradigms, which adds flexibility.'''\n"
      ]
    },
    {
      "cell_type": "code",
      "source": [
        "\n",
        "'''2. Describe the role of predefined keywords in Python and provide examples of how they are used in a program\n",
        "\n",
        "Keywords are reserved words in Python used to define the structure and syntax. They cannot be used as identifiers (variable names). Examples include if, else, while, for, and return.'''\n",
        "\n",
        "def check_even(num):       # 'def' and 'return' are keywords\n",
        "    if num % 2 == 0:       # 'if' is a keyword\n",
        "        return True        # 'return' is a keyword\n",
        "    else:                  # 'else' is a keyword\n",
        "        return False\n",
        "\n",
        "print(check_even(4))\n",
        "\n"
      ],
      "metadata": {
        "id": "wMY7452ySmar",
        "colab": {
          "base_uri": "https://localhost:8080/"
        },
        "outputId": "0c0773ba-624f-4a53-cc59-5bd14015a998"
      },
      "execution_count": null,
      "outputs": [
        {
          "output_type": "stream",
          "name": "stdout",
          "text": [
            "True\n"
          ]
        }
      ]
    },
    {
      "cell_type": "code",
      "source": [
        "3. ''' Compare and contrast mutable and immutable objects in Python with examples\n",
        "\n",
        "Mutable Objects: These are objects whose value can be changed after creation. Lists and dictionaries are examples of mutable objects.'''\n",
        "\n",
        "# Mutable example\n",
        "my_list = [1, 2, 3]\n",
        "my_list[0] = 10\n",
        "print(my_list)"
      ],
      "metadata": {
        "colab": {
          "base_uri": "https://localhost:8080/"
        },
        "id": "NqNoc0rVQ7PU",
        "outputId": "432c396b-7e10-4157-de65-7f1d6ecae42f"
      },
      "execution_count": null,
      "outputs": [
        {
          "output_type": "stream",
          "name": "stdout",
          "text": [
            "[10, 2, 3]\n"
          ]
        }
      ]
    },
    {
      "cell_type": "code",
      "source": [
        "''' Immutable Objects: These cannot be changed once created. Tuples and strings are examples of immutable objects.'''\n",
        "\n",
        "# Immutable example\n",
        "my_tuple = (1, 2, 3)\n",
        "my_tuple[0] = 10             # This will cause an error because tuples are immutable"
      ],
      "metadata": {
        "colab": {
          "base_uri": "https://localhost:8080/",
          "height": 176
        },
        "id": "2_QZlz52SKNl",
        "outputId": "43aae23c-2324-4f4c-a321-de4742d64dd5"
      },
      "execution_count": null,
      "outputs": [
        {
          "output_type": "error",
          "ename": "TypeError",
          "evalue": "'tuple' object does not support item assignment",
          "traceback": [
            "\u001b[0;31m---------------------------------------------------------------------------\u001b[0m",
            "\u001b[0;31mTypeError\u001b[0m                                 Traceback (most recent call last)",
            "\u001b[0;32m<ipython-input-8-ff01b2ebbc83>\u001b[0m in \u001b[0;36m<cell line: 5>\u001b[0;34m()\u001b[0m\n\u001b[1;32m      3\u001b[0m \u001b[0;31m# Immutable example\u001b[0m\u001b[0;34m\u001b[0m\u001b[0;34m\u001b[0m\u001b[0m\n\u001b[1;32m      4\u001b[0m \u001b[0mmy_tuple\u001b[0m \u001b[0;34m=\u001b[0m \u001b[0;34m(\u001b[0m\u001b[0;36m1\u001b[0m\u001b[0;34m,\u001b[0m \u001b[0;36m2\u001b[0m\u001b[0;34m,\u001b[0m \u001b[0;36m3\u001b[0m\u001b[0;34m)\u001b[0m\u001b[0;34m\u001b[0m\u001b[0;34m\u001b[0m\u001b[0m\n\u001b[0;32m----> 5\u001b[0;31m \u001b[0mmy_tuple\u001b[0m\u001b[0;34m[\u001b[0m\u001b[0;36m0\u001b[0m\u001b[0;34m]\u001b[0m \u001b[0;34m=\u001b[0m \u001b[0;36m10\u001b[0m\u001b[0;34m\u001b[0m\u001b[0;34m\u001b[0m\u001b[0m\n\u001b[0m",
            "\u001b[0;31mTypeError\u001b[0m: 'tuple' object does not support item assignment"
          ]
        }
      ]
    },
    {
      "cell_type": "code",
      "source": [
        "'''4. Discuss the different types of operators in Python and provide examples of how they are used '''"
      ],
      "metadata": {
        "id": "bS9bihR-SjT5"
      },
      "execution_count": null,
      "outputs": []
    },
    {
      "cell_type": "code",
      "source": [
        "'Python operators are symbols or keywords that perform operations on variables and values. Python provides several types of operators to handle different operations, such as arithmetic calculations, comparisons, logical operations, and more''\n"
      ],
      "metadata": {
        "id": "7lvfW2ZjphA_"
      },
      "execution_count": null,
      "outputs": []
    },
    {
      "cell_type": "code",
      "source": [
        "'''Arithmetic Operators\n",
        "Arithmetic operators perform mathematical operations.\n",
        "\n",
        "Operator\tDescription\tExample\n",
        "+\tAddition\t5 + 3 = 8\n",
        "-\tSubtraction\t5 - 3 = 2\n",
        "*\tMultiplication\t5 * 3 = 15\n",
        "/\tDivision\t5 / 3 = 1.67\n",
        "%\tModulus\t5 % 3 = 2\n",
        "**\tExponentiation\t5 ** 3 = 125\n",
        "//\tFloor Division\t5 // 3 = 1 '''"
      ],
      "metadata": {
        "id": "VjG9r9lMphMc"
      },
      "execution_count": null,
      "outputs": []
    },
    {
      "cell_type": "code",
      "source": [
        "a = 18\n",
        "b = 3\n",
        "print(a + b)  # Additition\n",
        "print(a - b)  #subtraction\n",
        "print(a * b)  #multiplication\n",
        "print(a / b)  #division\n",
        "print(a % b)  #modulus\n",
        "print(a ** b) #Expoentiation\n",
        "print(a // b) #floor division\n"
      ],
      "metadata": {
        "colab": {
          "base_uri": "https://localhost:8080/"
        },
        "id": "musM9OIqphO1",
        "outputId": "6bfbee06-b9bf-4e73-c093-8d0deb537ba0"
      },
      "execution_count": null,
      "outputs": [
        {
          "output_type": "stream",
          "name": "stdout",
          "text": [
            "21\n",
            "15\n",
            "54\n",
            "6.0\n",
            "0\n",
            "5832\n",
            "6\n"
          ]
        }
      ]
    },
    {
      "cell_type": "code",
      "source": [
        "''' Comparison (Relational) Operators\n",
        "Comparison operators compare values and return either True or False.\n",
        "\n",
        "Operator\tDescription\tExample\n",
        "==\tEqual\t5 == 3 → False\n",
        "!=\tNot equal\t5 != 3 → True\n",
        ">\tGreater than\t5 > 3 → True\n",
        "<\tLess than\t5 < 3 → False\n",
        ">=\tGreater than or equal to\t5 >= 3 → True\n",
        "<=\tLess than or equal to\t5 <= 3 → False '''"
      ],
      "metadata": {
        "id": "zYQHjKDUphRA"
      },
      "execution_count": null,
      "outputs": []
    },
    {
      "cell_type": "code",
      "source": [
        "a = 6\n",
        "b = 5\n",
        "print(a == b)  #equal\n",
        "print(a != b)  #not equal\n",
        "print(a > b)   #greater than\n",
        "print(a < b)   #less than\n",
        "print(a >= b)  #greater than or equal\n",
        "print(a <= b) #lesser than or equal\n"
      ],
      "metadata": {
        "colab": {
          "base_uri": "https://localhost:8080/"
        },
        "id": "ojAmhbTfphTS",
        "outputId": "db79a63c-5fde-4c69-8092-f0825a409547"
      },
      "execution_count": null,
      "outputs": [
        {
          "output_type": "stream",
          "name": "stdout",
          "text": [
            "False\n",
            "True\n",
            "True\n",
            "False\n",
            "True\n",
            "False\n"
          ]
        }
      ]
    },
    {
      "cell_type": "code",
      "source": [
        "''' 4. Assignment Operators\n",
        "Assignment operators assign values to variables. They also combine assignment with other operations.\n",
        "\n",
        "Operator\tDescription \t    Example\n",
        "=\t        Simple assignment \tx = 5\n",
        "+=\t      Add and assign\t    x += 3\n",
        "-=      \tSubtract and assign\tx -= 3\n",
        "*=        Multiply and assign\tx *= 3\n",
        "/=\t      Divide and assign \tx /= 3\n",
        "%=\t     Modulus and assign\t  x %= 3\n",
        "**=    \tExponent and assign \tx **= 3\n",
        "//=\t  Floor divide and assign x //= 3 '''"
      ],
      "metadata": {
        "id": "i4A0fIlHphWG"
      },
      "execution_count": null,
      "outputs": []
    },
    {
      "cell_type": "code",
      "source": [
        "x = 10   # Initial assignment\n",
        "print(\"Initial value of x:\", x)\n",
        "\n",
        "# Add and assign\n",
        "x += 5    # x = x + 5\n",
        "print(\"After x += 5:\", x)\n",
        "\n",
        "# Subtract and assign\n",
        "x -= 3    # x = x - 3\n",
        "print(\"After x -= 3:\", x)\n",
        "\n",
        "# Multiply and assign\n",
        "x *= 2    # x = x * 2\n",
        "print(\"After x *= 2:\", x)\n",
        "\n",
        "# Divide and assign\n",
        "x /= 4    # x = x / 4\n",
        "print(\"After x /= 4:\", x)\n",
        "# Modulus and assign\n",
        "x %= 5    # x = x % 5\n",
        "print(\"After x %= 5:\", x)\n",
        "\n",
        "# Exponent and assign\n",
        "x **= 3   # x = x ** 3\n",
        "print(\"After x **= 3:\", x)\n",
        "\n",
        "# Floor divide and assign\n",
        "x = 20    # Reset x to 20\n",
        "x //= 3   # x = x // 3\n",
        "print(\"After x //= 3:\", x)\n"
      ],
      "metadata": {
        "colab": {
          "base_uri": "https://localhost:8080/"
        },
        "id": "qxLWffA5phY4",
        "outputId": "098dcde4-9bb5-401d-9613-0e2c515f61b4"
      },
      "execution_count": null,
      "outputs": [
        {
          "output_type": "stream",
          "name": "stdout",
          "text": [
            "Initial value of x: 10\n",
            "After x += 5: 15\n",
            "After x -= 3: 12\n",
            "After x *= 2: 24\n",
            "After x /= 4: 6.0\n",
            "After x %= 5: 1.0\n",
            "After x **= 3: 1.0\n",
            "After x //= 3: 6\n"
          ]
        }
      ]
    },
    {
      "cell_type": "code",
      "source": [
        "5. '''Bitwise Operators\n",
        "Bitwise operators perform operations on binary numbers.\n",
        "\n",
        "Operator\tDescription\tExample\n",
        "&\t        AND\t       5 & 3 → 1\n",
        "`\t         `\t       OR\n",
        "^\t         XOR\t     5 ^ 3 → 6\n",
        "~\t         NOT     \t~5 → -6\n",
        "<<\t Left Shift\t    5 << 1 → 10\n",
        ">>\tRight Shift   \t5 >> 1 → 2 '''"
      ],
      "metadata": {
        "id": "D_mJo7_rphbR"
      },
      "execution_count": null,
      "outputs": []
    },
    {
      "cell_type": "code",
      "source": [
        "a = 5  # Binary: 0101\n",
        "b = 3  # Binary: 0011\n",
        "print(a & b)  #(Binary: 0001)\n",
        "print(a | b)  #(Binary: 0111)\n",
        "print(a ^ b)  #(Binary: 0110)\n",
        "print(~a)\n",
        "print(a << 1) #(Binary: 1010)\n",
        "print(a >> 1) #(Binary: 0010)\n"
      ],
      "metadata": {
        "colab": {
          "base_uri": "https://localhost:8080/"
        },
        "id": "PepX7RuMphew",
        "outputId": "d854b196-acad-48ec-cfae-04307fa4003f"
      },
      "execution_count": null,
      "outputs": [
        {
          "output_type": "stream",
          "name": "stdout",
          "text": [
            "1\n",
            "7\n",
            "6\n",
            "-6\n",
            "10\n",
            "2\n"
          ]
        }
      ]
    },
    {
      "cell_type": "code",
      "source": [
        "'''Membership Operators\n",
        "Membership operators check if a value exists in a sequence (such as a list, string, tuple, etc.).\n",
        "\n",
        "Operator\tDescription\tExample\n",
        "in\tTrue if value is in the sequence\t3 in [1, 2, 3] → True\n",
        "not in\tTrue if value is not in the sequence\t4 not in [1, 2, 3] → True'''"
      ],
      "metadata": {
        "id": "vAW6_xGBuGQY"
      },
      "execution_count": null,
      "outputs": []
    },
    {
      "cell_type": "code",
      "source": [
        "fruits = [\"apple\", \"banana\", \"cherry\"]\n",
        "print(\"PINK\" in fruits)\n",
        "print(\"RED\" not in fruits)\n"
      ],
      "metadata": {
        "colab": {
          "base_uri": "https://localhost:8080/"
        },
        "id": "64WJRp19uLgi",
        "outputId": "c06b2258-c8ad-4799-96ed-fab2737ce4e7"
      },
      "execution_count": null,
      "outputs": [
        {
          "output_type": "stream",
          "name": "stdout",
          "text": [
            "False\n",
            "True\n"
          ]
        }
      ]
    },
    {
      "cell_type": "code",
      "source": [
        "\"\"\" Identity Operators\n",
        "Identity operators compare the memory location of two objects.\n",
        "\n",
        "Operator\tDescription\tExample\n",
        "is\tTrue if both variables are the same object\ta is b\n",
        "is not\tTrue if both variables are not the same object\ta is not b '''\n"
      ],
      "metadata": {
        "id": "FM6VqbpQueZ5"
      },
      "execution_count": null,
      "outputs": []
    },
    {
      "cell_type": "code",
      "source": [
        "a = [1, 2, 3]\n",
        "b = a\n",
        "c = [1, 2, 3]\n",
        "print(a is b)       # (both a and b refer to the same object)\n",
        "print(a is c)       # (a and c are different objects)\n",
        "print(a == c)       # (a and c have the same content)\n"
      ],
      "metadata": {
        "colab": {
          "base_uri": "https://localhost:8080/"
        },
        "id": "PNHd8TL1urly",
        "outputId": "d4bdf9e9-e79c-4d5d-a8d7-664d86044a3d"
      },
      "execution_count": null,
      "outputs": [
        {
          "output_type": "stream",
          "name": "stdout",
          "text": [
            "True\n",
            "False\n",
            "True\n"
          ]
        }
      ]
    },
    {
      "cell_type": "code",
      "source": [
        "\"\"\"5.Explain the concept of type casting in Python with examples'''"
      ],
      "metadata": {
        "id": "ZI3oUbP-vUfp"
      },
      "execution_count": null,
      "outputs": []
    },
    {
      "cell_type": "code",
      "source": [
        "'''Type Casting\n",
        "Type casting is converting one data type to another, which can be implicit or explicit.'''\n",
        "\n",
        "\n",
        "# Initial values\n",
        "x_int = 10             # Integer\n",
        "y_float = 3.5          # Float\n",
        "str_num = \"123\"        # Numeric string\n",
        "str_float = \"123.45\"   # Float string\n",
        "str_text = \"Hello\"     # Non-numeric string\n",
        "my_list = [1, 2, 3, 4] # List\n",
        "my_tuple = (5, 6, 7)   # Tuple\n",
        "\n",
        "# 1. Implicit Type Casting (Integer + Float)\n",
        "result_implicit = x_int + y_float\n",
        "print(\"Implicit Type Casting (int + float):\", result_implicit)\n",
        "print(\"Type after implicit casting:\", type(result_implicit))\n",
        "\n",
        "# 2. Explicit Type Casting Examples\n",
        "\n",
        "# Integer to Float\n",
        "y_explicit = float(x_int)\n",
        "print(\"Integer to Float:\", y_explicit)\n",
        "\n",
        "# Float to Integer (Truncates decimal part)\n",
        "y_explicit = int(y_float)\n",
        "print(\"Float to Integer:\", y_explicit)\n",
        "\n",
        "# Integer to String\n",
        "y_explicit = str(x_int)\n",
        "print(\"Integer to String:\", y_explicit)\n",
        "\n",
        "# String to Integer\n",
        "y_explicit = int(str_num)\n",
        "print(\"String to Integer:\", y_explicit)\n",
        "\n",
        "# String to Float\n",
        "y_explicit = float(str_float)\n",
        "print(\"String to Float:\", y_explicit)\n",
        "\n",
        "# List to Tuple\n",
        "y_explicit = tuple(my_list)\n",
        "print(\"List to Tuple:\", y_explicit)\n",
        "\n",
        "# Tuple to List\n",
        "y_explicit = list(my_tuple)\n",
        "print(\"Tuple to List:\", y_explicit)\n",
        "\n",
        "# String to List\n",
        "y_explicit = list(str_text)\n",
        "print(\"String to List:\", y_explicit)\n",
        "\n",
        "\n",
        "\n"
      ],
      "metadata": {
        "colab": {
          "base_uri": "https://localhost:8080/"
        },
        "id": "BxH1sDR-voLq",
        "outputId": "f8651758-236c-4f28-b342-78179f9e303e"
      },
      "execution_count": null,
      "outputs": [
        {
          "output_type": "stream",
          "name": "stdout",
          "text": [
            "Implicit Type Casting (int + float): 13.5\n",
            "Type after implicit casting: <class 'float'>\n",
            "Integer to Float: 10.0\n",
            "Float to Integer: 3\n",
            "Integer to String: 10\n",
            "String to Integer: 123\n",
            "String to Float: 123.45\n",
            "List to Tuple: (1, 2, 3, 4)\n",
            "Tuple to List: [5, 6, 7]\n",
            "String to List: ['H', 'e', 'l', 'l', 'o']\n"
          ]
        }
      ]
    },
    {
      "cell_type": "code",
      "source": [
        "'''6.  How do conditional statements work in Python? Illustrate with examples'''\n",
        "\n",
        "# 1. Simple if statement\n",
        "x = 10\n",
        "if x > 5:\n",
        "    print(\"x is greater than 5\")\n",
        "\n",
        "# 2. if-else statement\n",
        "y = 3\n",
        "if y > 5:\n",
        "    print(\"y is greater than 5\")\n",
        "else:\n",
        "    print(\"y is not greater than 5\")\n",
        "\n",
        "# 3. if-elif-else statement\n",
        "z = 15\n",
        "if z < 5:\n",
        "    print(\"z is less than 5\")\n",
        "elif z < 10:\n",
        "    print(\"z is less than 10 but greater than or equal to 5\")\n",
        "elif z < 20:\n",
        "    print(\"z is less than 20 but greater than or equal to 10\")\n",
        "else:\n",
        "    print(\"z is 20 or greater\")\n",
        "\n",
        "# 4. Nested if statements\n",
        "a = 7\n",
        "if a > 0:\n",
        "    print(\"a is positive\")\n",
        "    if a % 2 == 0:\n",
        "        print(\"a is even\")\n",
        "    else:\n",
        "        print(\"a is odd\")\n",
        "else:\n",
        "    print(\"a is zero or negative\")\n",
        "\n",
        "# 5. Using conditional expressions (ternary operator)\n",
        "b = 8\n",
        "result = \"b is even\" if b % 2 == 0 else \"b is odd\"\n",
        "print(result)\n",
        "\n",
        "# 6. Checking multiple conditions with and, or\n",
        "c = 12\n",
        "d = 5\n",
        "if c > 10 and d < 10:\n",
        "    print(\"Both conditions are true\")\n",
        "if c < 10 or d < 10:\n",
        "    print(\"At least one condition is true\")\n",
        "\n",
        "# 7. Using \"in\" with conditions (checking membership)\n",
        "fruits = [\"apple\", \"banana\", \"cherry\"]\n",
        "if \"apple\" in fruits:\n",
        "    print(\"Apple is in the list\")\n",
        "if \"orange\" not in fruits:\n",
        "    print(\"Orange is not in the list\")\n",
        "\n",
        "# 8. Using \"is\" to check for identity\n",
        "e = None\n",
        "if e is None:\n",
        "    print(\"e is None\")\n",
        "f = 20\n",
        "if f is not None:\n",
        "    print(\"f is not None\")\n",
        "\n"
      ],
      "metadata": {
        "colab": {
          "base_uri": "https://localhost:8080/"
        },
        "id": "LLqYxpXqxdXk",
        "outputId": "a815ae20-80b4-4690-b229-37a269138971"
      },
      "execution_count": null,
      "outputs": [
        {
          "output_type": "stream",
          "name": "stdout",
          "text": [
            "x is greater than 5\n",
            "y is not greater than 5\n",
            "z is less than 20 but greater than or equal to 10\n",
            "a is positive\n",
            "a is odd\n",
            "b is even\n",
            "Both conditions are true\n",
            "At least one condition is true\n",
            "Apple is in the list\n",
            "Orange is not in the list\n",
            "e is None\n",
            "f is not None\n"
          ]
        }
      ]
    },
    {
      "cell_type": "code",
      "source": [
        "''' Describe the different types of loops in Python and their use cases with examples.\n",
        "Loops are used to execute a block of code repeatedly, based on a condition or a sequence. Python provides two main types of loops:\n",
        "\n",
        "for loop: Iterates over a sequence (like a list, tuple, string, or range) and executes a block of code for each item in the sequence.\n",
        "while loop: Repeats a block of code as long as a condition is true.'''"
      ],
      "metadata": {
        "id": "FanLV7uEL8C0"
      },
      "execution_count": null,
      "outputs": []
    },
    {
      "cell_type": "code",
      "source": [
        "'''. for Loop\n",
        "The for loop is used to iterate over a sequence (such as a list, tuple, or string) or a range of numbers. It automatically assigns each value from the sequence to the loop variable.\n",
        "\n",
        "Syntax:\n",
        "for variable in sequence:\n",
        "    # Code block\n",
        "Use case: The for loop is useful when you know how many times you want to iterate, or when you need to iterate through all items in a collection.'''\n",
        "\n",
        "# Example 1: Iterating over a list\n",
        "fruits = [\"apple\", \"banana\", \"cherry\"]\n",
        "for fruit in fruits:\n",
        "    print(fruit)\n",
        "\n",
        "# Example 2: Using range to repeat a block multiple times\n",
        "for i in range(1, 6):  # Iterates from 1 to 5\n",
        "    print(i)  # Output: 1, 2, 3, 4, 5\n",
        "\n",
        "# Example 3: Iterating over a string\n",
        "word = \"SANJANA\"\n",
        "for letter in word:\n",
        "    print(letter)\n"
      ],
      "metadata": {
        "colab": {
          "base_uri": "https://localhost:8080/"
        },
        "id": "ZQVMSCfoMlW1",
        "outputId": "6b4df3e2-086d-495f-d575-ad14446d73b0"
      },
      "execution_count": null,
      "outputs": [
        {
          "output_type": "stream",
          "name": "stdout",
          "text": [
            "apple\n",
            "banana\n",
            "cherry\n",
            "1\n",
            "2\n",
            "3\n",
            "4\n",
            "5\n",
            "S\n",
            "A\n",
            "N\n",
            "J\n",
            "A\n",
            "N\n",
            "A\n"
          ]
        }
      ]
    },
    {
      "cell_type": "code",
      "source": [
        "'''while Loop\n",
        "The while loop continues executing a block of code as long as the specified condition is true. It is useful when the number of iterations is not known beforehand, but the continuation depends on a condition.\n",
        "\n",
        "Syntax:\n",
        "while condition:\n",
        "    # Code block\n",
        "Use case: The while loop is used when the number of iterations is unknown, or based on a dynamic condition that may change during execution.'''\n",
        "\n",
        "# Example 1: Using while to repeat code until a condition is met\n",
        "x = 0\n",
        "while x < 7:\n",
        "    print(x)\n",
        "    x += 1  # Increment x to avoid infinite loop\n",
        "\n",
        "# Example 2: Infinite loop with a break condition\n",
        "y = 10\n",
        "while True:  # This will run indefinitely until broken\n",
        "    print(y)\n",
        "    y -= 1  # Decrement y\n",
        "    if y == 5:\n",
        "        break  # Breaks out of the loop when y is 5"
      ],
      "metadata": {
        "colab": {
          "base_uri": "https://localhost:8080/"
        },
        "id": "vQvSCIuFNAaJ",
        "outputId": "e526ef65-b601-474d-be4c-0e0fd8117375"
      },
      "execution_count": null,
      "outputs": [
        {
          "output_type": "stream",
          "name": "stdout",
          "text": [
            "0\n",
            "1\n",
            "2\n",
            "3\n",
            "4\n",
            "5\n",
            "6\n",
            "10\n",
            "9\n",
            "8\n",
            "7\n",
            "6\n"
          ]
        }
      ]
    },
    {
      "cell_type": "code",
      "source": [
        "'''Nested Loops\n",
        "You can place one loop inside another, known as nested loops. This allows you to perform multiple iterations over multiple sequences.\n",
        "\n",
        "Use case: Nested loops are useful when you need to iterate over multi-dimensional data structures (like lists of lists).'''\n",
        "\n",
        "# Example 1: Nested for loops\n",
        "for i in range(3):\n",
        "    for j in range(3):\n",
        "        print(f\"i = {i}, j = {j}\")\n"
      ],
      "metadata": {
        "colab": {
          "base_uri": "https://localhost:8080/"
        },
        "id": "S6Qtc27DNbpV",
        "outputId": "50f5c6ad-0dd2-481b-e01c-3a42c37ba098"
      },
      "execution_count": null,
      "outputs": [
        {
          "output_type": "stream",
          "name": "stdout",
          "text": [
            "i = 0, j = 0\n",
            "i = 0, j = 1\n",
            "i = 0, j = 2\n",
            "i = 1, j = 0\n",
            "i = 1, j = 1\n",
            "i = 1, j = 2\n",
            "i = 2, j = 0\n",
            "i = 2, j = 1\n",
            "i = 2, j = 2\n",
            "x = 0, y = 0\n",
            "x = 0, y = 1\n",
            "x = 0, y = 2\n",
            "x = 1, y = 0\n",
            "x = 1, y = 1\n",
            "x = 1, y = 2\n"
          ]
        }
      ]
    },
    {
      "cell_type": "code",
      "source": [
        "# Example 2: Nested while loops\n",
        "x = 0\n",
        "while x < 2:  # Outer while loop\n",
        "    y = 0\n",
        "    while y < 3:  # Inner while loop\n",
        "        print(f\"x = {x}, y = {y}\")\n",
        "        y += 1\n",
        "    x += 1"
      ],
      "metadata": {
        "colab": {
          "base_uri": "https://localhost:8080/"
        },
        "id": "E9xvEN_CN0hk",
        "outputId": "b1a99fa7-3cac-445c-cc84-7aafdb396078"
      },
      "execution_count": null,
      "outputs": [
        {
          "output_type": "stream",
          "name": "stdout",
          "text": [
            "x = 0, y = 0\n",
            "x = 0, y = 1\n",
            "x = 0, y = 2\n",
            "x = 1, y = 0\n",
            "x = 1, y = 1\n",
            "x = 1, y = 2\n"
          ]
        }
      ]
    },
    {
      "cell_type": "code",
      "source": [
        " '''break, continue, and else with Loops\n",
        "break: Exits the loop entirely, regardless of the loop condition.\n",
        "continue: Skips the current iteration and continues with the next iteration of the loop.\n",
        "else: The else block after a loop executes if the loop completes normally (without a break).'''\n",
        "\n",
        "# Example 1: Using break to exit a loop\n",
        "for i in range(10):\n",
        "    if i == 5:\n",
        "        break  # Exits the loop when i is 5\n",
        "    print(i)  # Output: 0, 1, 2, 3, 4\n",
        "\n"
      ],
      "metadata": {
        "colab": {
          "base_uri": "https://localhost:8080/"
        },
        "id": "42akZ1XjN6ds",
        "outputId": "7c9d2a28-a252-44d3-dfea-4c8ed42ee519"
      },
      "execution_count": null,
      "outputs": [
        {
          "output_type": "stream",
          "name": "stdout",
          "text": [
            "0\n",
            "1\n",
            "2\n",
            "3\n",
            "4\n"
          ]
        }
      ]
    },
    {
      "cell_type": "code",
      "source": [
        "\n",
        "# Example 2: Using continue to skip an iteration\n",
        "for i in range(10):\n",
        "    if i == 5:\n",
        "        continue  # Skips the iteration when i is 5\n",
        "    print(i)\n",
        "\n"
      ],
      "metadata": {
        "colab": {
          "base_uri": "https://localhost:8080/"
        },
        "id": "gUHPTYW5OYF9",
        "outputId": "a4fb0d06-45a4-410d-b45b-81c98529e7e4"
      },
      "execution_count": null,
      "outputs": [
        {
          "output_type": "stream",
          "name": "stdout",
          "text": [
            "0\n",
            "1\n",
            "2\n",
            "3\n",
            "4\n",
            "6\n",
            "7\n",
            "8\n",
            "9\n"
          ]
        }
      ]
    },
    {
      "cell_type": "code",
      "source": [
        "# Example 3: Using else with a for loop\n",
        "for i in range(5):\n",
        "    print(i)\n",
        "else:\n",
        "    print(\"Loop completed successfully.\")\n"
      ],
      "metadata": {
        "colab": {
          "base_uri": "https://localhost:8080/"
        },
        "id": "OIkQ4cm5Ob01",
        "outputId": "7f40f9e2-cddb-4369-d4d8-3bbf67a8a5fa"
      },
      "execution_count": null,
      "outputs": [
        {
          "output_type": "stream",
          "name": "stdout",
          "text": [
            "0\n",
            "1\n",
            "2\n",
            "3\n",
            "4\n",
            "Loop completed successfully.\n"
          ]
        }
      ]
    },
    {
      "cell_type": "code",
      "source": [
        "# Example 4: Using else with break\n",
        "for i in range(5):\n",
        "    if i == 3:\n",
        "        break  # Exits the loop before reaching the else\n",
        "else:\n",
        "    print(\"Loop completed successfully.\")  # This won't be printed because of break"
      ],
      "metadata": {
        "id": "8bD22yj5OdmE"
      },
      "execution_count": null,
      "outputs": []
    }
  ]
}