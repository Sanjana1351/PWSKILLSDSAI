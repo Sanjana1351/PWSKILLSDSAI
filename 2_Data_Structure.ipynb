{
  "nbformat": 4,
  "nbformat_minor": 0,
  "metadata": {
    "colab": {
      "provenance": []
    },
    "kernelspec": {
      "name": "python3",
      "display_name": "Python 3"
    },
    "language_info": {
      "name": "python"
    }
  },
  "cells": [
    {
      "cell_type": "code",
      "execution_count": null,
      "metadata": {
        "id": "R1jxMhAgtj_f"
      },
      "outputs": [],
      "source": [
        "#Discuss string slicing and provide examples\n",
        "\n",
        "#String Slicing in Python:\n",
        "#String slicing allows you to extract a portion of a string by specifying a starting index, an ending index, and an optional step value."
      ]
    },
    {
      "cell_type": "code",
      "source": [
        "#string[start:end:step]\n",
        "#start is the index where the slice starts (inclusive).\n",
        "#end is the index where the slice ends (exclusive).\n",
        "#step is the number of indices to skip between each character."
      ],
      "metadata": {
        "id": "XRre-cMCukCJ"
      },
      "execution_count": null,
      "outputs": []
    },
    {
      "cell_type": "code",
      "source": [
        "text = \"Python Programming\"\n",
        "# Extract substring from index 0 to 5\n",
        "print(text[0:5])\n",
        "\n",
        "# Extract substring from index 7 to the end\n",
        "print(text[7:])\n",
        "\n",
        "# Extract substring with step size of 2\n",
        "print(text[0:14:2])\n",
        "\n",
        "# Reverse the string using negative step\n",
        "print(text[::-1])\n"
      ],
      "metadata": {
        "colab": {
          "base_uri": "https://localhost:8080/"
        },
        "id": "sK-p8osrurmB",
        "outputId": "9001ad68-51b8-4680-9c6f-d6ff574258b3"
      },
      "execution_count": 3,
      "outputs": [
        {
          "output_type": "stream",
          "name": "stdout",
          "text": [
            "Pytho\n",
            "Programming\n",
            "Pto rga\n",
            "gnimmargorP nohtyP\n"
          ]
        }
      ]
    },
    {
      "cell_type": "code",
      "source": [
        "#Explain the key features of lists in Python\n",
        "'''\n",
        "Key Features of Lists in Python:\n",
        "Ordered: Lists maintain the order of elements as they were inserted.\n",
        "Mutable: Lists can be modified (elements can be added, removed, or changed).\n",
        "Heterogeneous: Lists can contain elements of different data types (e.g., integers, strings, other lists).\n",
        "Indexed: Elements in a list can be accessed using indices, starting from 0.\n",
        "Dynamic: Lists can grow or shrink in size.'''\n",
        "\n",
        "my_list = [1, \"apple\", 3.14, [2, 4], True]\n",
        "print(my_list)\n"
      ],
      "metadata": {
        "colab": {
          "base_uri": "https://localhost:8080/"
        },
        "id": "xARPve-Uurtg",
        "outputId": "73b502a8-a52a-4683-b91b-2464cd5aa9c3"
      },
      "execution_count": 4,
      "outputs": [
        {
          "output_type": "stream",
          "name": "stdout",
          "text": [
            "[1, 'apple', 3.14, [2, 4], True]\n"
          ]
        }
      ]
    },
    {
      "cell_type": "code",
      "source": [
        "# Describe how to access, modify, and delete elements in a list with examples\n"
      ],
      "metadata": {
        "id": "_a08XqwDurvw"
      },
      "execution_count": null,
      "outputs": []
    },
    {
      "cell_type": "code",
      "source": [
        "# Access:You can access list elements using indices.\n",
        "\n",
        "my_list = [10, 20, 30, 40, 50]\n",
        "print(my_list[4])"
      ],
      "metadata": {
        "colab": {
          "base_uri": "https://localhost:8080/"
        },
        "id": "7YXanCY1urz5",
        "outputId": "f5c5220d-1220-4cfb-f5cf-7567a97c8224"
      },
      "execution_count": 5,
      "outputs": [
        {
          "output_type": "stream",
          "name": "stdout",
          "text": [
            "50\n"
          ]
        }
      ]
    },
    {
      "cell_type": "code",
      "source": [
        "# Modify: List elements can be modified by assigning a new value to a specific index.\n",
        "my_list = [10, 20, 30, 40, 50]\n",
        "my_list[2] = 25\n",
        "print(my_list)\n"
      ],
      "metadata": {
        "colab": {
          "base_uri": "https://localhost:8080/"
        },
        "id": "QdhVZbeJur2A",
        "outputId": "da482c14-e031-4b56-85da-72e15eee14f5"
      },
      "execution_count": 14,
      "outputs": [
        {
          "output_type": "stream",
          "name": "stdout",
          "text": [
            "[10, 20, 25, 40, 50]\n"
          ]
        }
      ]
    },
    {
      "cell_type": "code",
      "source": [
        "#Delete: delete elements using del, pop(), or remove().\n",
        "\n",
        "# Using del\n",
        "del my_list[1]\n",
        "print(my_list)\n",
        "\n",
        "# Using pop\n",
        "my_list.pop(1)\n",
        "print(my_list)\n",
        "\n",
        "# Using remove\n",
        "my_list.remove(40)\n",
        "print(my_list)"
      ],
      "metadata": {
        "colab": {
          "base_uri": "https://localhost:8080/"
        },
        "id": "qOjPAR5DwFUG",
        "outputId": "7db4fd95-1a3c-4513-ca71-a2d3b1deeb74"
      },
      "execution_count": 15,
      "outputs": [
        {
          "output_type": "stream",
          "name": "stdout",
          "text": [
            "[10, 25, 40, 50]\n",
            "[10, 40, 50]\n",
            "[10, 50]\n"
          ]
        }
      ]
    },
    {
      "cell_type": "code",
      "source": [
        "# Compare and contrast tuples and lists with examples\n",
        "\n",
        "'''Tuples vs Lists:\n",
        "Immutability: Tuples are immutable, meaning their values cannot be changed after creation, while lists are mutable.\n",
        "Performance: Tuples are generally faster than lists for iteration and access due to their immutability.\n",
        "Syntax: Lists are created using square brackets [], while tuples are created using parentheses ().'''"
      ],
      "metadata": {
        "id": "b7gDLAkcwlhu"
      },
      "execution_count": null,
      "outputs": []
    },
    {
      "cell_type": "code",
      "source": [
        "# List\n",
        "my_list = [1, 2, 3]\n",
        "# Tuple\n",
        "my_tuple = (1, 2, 3)\n",
        "\n",
        "# Modifying elements in a list\n",
        "my_list[0] = 10\n",
        "print(my_list)\n",
        "\n",
        "# Modifying elements in a tuple (will raise an error)\n",
        "# my_tuple[0] = 10  # TypeError: 'tuple' object does not support item assignment\n"
      ],
      "metadata": {
        "colab": {
          "base_uri": "https://localhost:8080/"
        },
        "id": "0B4M3v5_wxG1",
        "outputId": "45986843-132a-49cb-985c-fc9aefa3e9f2"
      },
      "execution_count": 18,
      "outputs": [
        {
          "output_type": "stream",
          "name": "stdout",
          "text": [
            "[10, 2, 3]\n"
          ]
        }
      ]
    },
    {
      "cell_type": "code",
      "source": [
        "#Describe the key features of sets and provide examples of their use\n",
        "'''Key Features of Sets in Python:\n",
        "Unordered: Sets do not maintain any order of elements.\n",
        "Unique Elements: Sets automatically remove duplicate elements.\n",
        "Mutable: You can add or remove elements, but you cannot modify elements directly.\n",
        "No Indexing: Sets do not support indexing or slicing.'''"
      ],
      "metadata": {
        "id": "z_2xYcSiwxSu"
      },
      "execution_count": null,
      "outputs": []
    },
    {
      "cell_type": "code",
      "source": [
        "my_set = {1, 2, 3, 4, 5}\n",
        "print(my_set)\n",
        "my_set.add(6)\n",
        "print(my_set)\n",
        "my_set.remove(4)\n",
        "print(my_set)"
      ],
      "metadata": {
        "colab": {
          "base_uri": "https://localhost:8080/"
        },
        "id": "xazrl-g_xfRl",
        "outputId": "3d48a062-79b7-4f6c-ac9e-052c4ccee5fd"
      },
      "execution_count": 19,
      "outputs": [
        {
          "output_type": "stream",
          "name": "stdout",
          "text": [
            "{1, 2, 3, 4, 5}\n",
            "{1, 2, 3, 4, 5, 6}\n",
            "{1, 2, 3, 5, 6}\n"
          ]
        }
      ]
    },
    {
      "cell_type": "code",
      "source": [
        "# Discuss the use cases of tuples and sets in Python programming\n",
        "'''Use Cases of Tuples and Sets:\n",
        "Tuples: They are often used for fixed collections of items, like coordinates, RGB values, or function returns where immutability is desired.\n",
        "Sets: Useful for storing unique items, performing set operations (union, intersection), and checking for membership efficiently.'''\n"
      ],
      "metadata": {
        "id": "dFUE59ZvxfUX"
      },
      "execution_count": null,
      "outputs": []
    },
    {
      "cell_type": "code",
      "source": [
        "#Describe how to add, modify, and delete items in a dictionary with example\n",
        "\n",
        "'''Adding, Modifying, and Deleting Items in a Dictionary:\n",
        "Add: You can add a new key-value pair by assigning a value to a new key.\n",
        "Modify: Modify the value of an existing key.\n",
        "Delete: Remove a key-value pair using del, pop(), or popitem().'''"
      ],
      "metadata": {
        "id": "8TfzP82EzTGE"
      },
      "execution_count": null,
      "outputs": []
    },
    {
      "cell_type": "code",
      "source": [
        "my_dict = {\"name\": \"Alice\", \"age\": 25, \"city\": \"New York\"}\n",
        "\n",
        "# Adding a new key-value pair\n",
        "my_dict[\"country\"] = \"USA\"\n",
        "print(my_dict)\n",
        "\n",
        "# Modifying an existing value\n",
        "my_dict[\"age\"] = 26\n",
        "print(my_dict)\n",
        "\n",
        "# Deleting a key-value pair\n",
        "del my_dict[\"city\"]\n",
        "print(my_dict)\n"
      ],
      "metadata": {
        "colab": {
          "base_uri": "https://localhost:8080/"
        },
        "id": "X5o7LlmBxfWs",
        "outputId": "f62329c9-f1b7-4aaf-8e44-53abb49ed0db"
      },
      "execution_count": 20,
      "outputs": [
        {
          "output_type": "stream",
          "name": "stdout",
          "text": [
            "{'name': 'Alice', 'age': 25, 'city': 'New York', 'country': 'USA'}\n",
            "{'name': 'Alice', 'age': 26, 'city': 'New York', 'country': 'USA'}\n",
            "{'name': 'Alice', 'age': 26, 'country': 'USA'}\n"
          ]
        }
      ]
    },
    {
      "cell_type": "code",
      "source": [
        "my_dict = {\"name\": \"Alice\", \"age\": 25, \"city\": \"New York\"}\n",
        "\n",
        "# Adding a new key-value pair\n",
        "my_dict[\"country\"] = \"USA\"\n",
        "print(my_dict)\n",
        "\n",
        "# Modifying an existing value\n",
        "my_dict[\"age\"] = 26\n",
        "print(my_dict)\n",
        "\n",
        "# Deleting a key-value pair\n",
        "del my_dict[\"city\"]\n",
        "print(my_dict)"
      ],
      "metadata": {
        "colab": {
          "base_uri": "https://localhost:8080/"
        },
        "id": "URie-sxoxfY1",
        "outputId": "62c23e05-eeb5-46d1-f340-569ba9f637bc"
      },
      "execution_count": 23,
      "outputs": [
        {
          "output_type": "stream",
          "name": "stdout",
          "text": [
            "{'name': 'Alice', 'age': 25, 'city': 'New York', 'country': 'USA'}\n",
            "{'name': 'Alice', 'age': 26, 'city': 'New York', 'country': 'USA'}\n",
            "{'name': 'Alice', 'age': 26, 'country': 'USA'}\n"
          ]
        }
      ]
    },
    {
      "cell_type": "code",
      "source": [
        "#Discuss the importance of dictionary keys being immutable and provide examples\n",
        "'''Importance of Dictionary Keys Being Immutable:\n",
        "Dictionary keys must be immutable because dictionaries use the hash value of keys to quickly access values.\n",
        "If keys were mutable, their hash value could change after insertion, making it impossible to reliably access the associated value.'''\n",
        "\n",
        "# Using an immutable key (tuple)\n",
        "my_dict = {(\"a\", \"b\"): 1}\n",
        "print(my_dict)  # Output: {('a', 'b'): 1}\n",
        "\n",
        "# Using a mutable key (list) will raise an error\n",
        "# my_dict[[1, 2]] = 2  # TypeError: unhashable type: 'list'\n"
      ],
      "metadata": {
        "colab": {
          "base_uri": "https://localhost:8080/"
        },
        "id": "g66N0n84xffN",
        "outputId": "17432c9d-9527-4eaf-c010-6e10c5fd2153"
      },
      "execution_count": 24,
      "outputs": [
        {
          "output_type": "stream",
          "name": "stdout",
          "text": [
            "{('a', 'b'): 1}\n"
          ]
        }
      ]
    }
  ]
}